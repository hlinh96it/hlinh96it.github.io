{
 "cells": [
  {
   "cell_type": "code",
   "execution_count": null,
   "metadata": {},
   "outputs": [],
   "source": [
    "import cv2\n",
    "import os\n",
    "\n",
    "train_dir = 'Train'\n",
    "test_dir = 'Test'\n",
    "\n",
    "# Read a sample of images from Train folder\n",
    "train_images = []\n",
    "for filename in os.listdir(train_dir):\n",
    "    if filename.endswith('.jpg'):\n",
    "        img = cv2.imread(os.path.join(train_dir, filename))\n",
    "        train_images.append(img)\n",
    "\n",
    "# Read a sample of images from Test folder\n",
    "test_images = []\n",
    "for filename in os.listdir(test_dir):\n",
    "    if filename.endswith('.jpg'):\n",
    "        img = cv2.imread(os.path.join(test_dir, filename))\n",
    "        test_images.append(img)"
   ]
  },
  {
   "cell_type": "code",
   "execution_count": null,
   "metadata": {},
   "outputs": [],
   "source": []
  }
 ],
 "metadata": {
  "kernelspec": {
   "display_name": "base",
   "language": "python",
   "name": "python3"
  },
  "language_info": {
   "name": "python",
   "version": "3.10.9"
  },
  "orig_nbformat": 4
 },
 "nbformat": 4,
 "nbformat_minor": 2
}
